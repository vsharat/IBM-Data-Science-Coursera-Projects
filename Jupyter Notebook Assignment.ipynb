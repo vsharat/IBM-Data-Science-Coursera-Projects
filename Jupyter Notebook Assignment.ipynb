{
    "cells": [
        {
            "cell_type": "markdown",
            "metadata": {
                "collapsed": true
            },
            "source": "# My Jupyter Notebook on IBM Data Science Experience"
        },
        {
            "cell_type": "markdown",
            "metadata": {},
            "source": "**Sharat Valluri**       \nData Scientist"
        },
        {
            "cell_type": "markdown",
            "metadata": {},
            "source": "_After a winding, 20 year career in engineering, technology and business development, I have finally found the field that was made for me in Data-driven Business Analytics.      \nI know this is what I will do for the rest of my career - it is engaging, energizing and exciting!_"
        },
        {
            "cell_type": "markdown",
            "metadata": {},
            "source": "### Calculate how many kilometers are in a lightyear?\n"
        },
        {
            "cell_type": "code",
            "execution_count": 2,
            "metadata": {},
            "outputs": [
                {
                    "name": "stdout",
                    "output_type": "stream",
                    "text": "The Speed of Light is 299,792 km/s.\n"
                }
            ],
            "source": "s = 299792\nprint ('The Speed of Light is ' + str(f\"{s:,d}\") + ' km/s.')"
        },
        {
            "cell_type": "code",
            "execution_count": 3,
            "metadata": {},
            "outputs": [
                {
                    "name": "stdout",
                    "output_type": "stream",
                    "text": "There are 31,536,000 seconds in an year.\n"
                }
            ],
            "source": "t = 365*24*60*60\nprint ('There are ' + str(f\"{t:,d}\") + ' seconds in an year.')"
        },
        {
            "cell_type": "code",
            "execution_count": 14,
            "metadata": {},
            "outputs": [],
            "source": "l = s*t"
        },
        {
            "cell_type": "code",
            "execution_count": 15,
            "metadata": {},
            "outputs": [
                {
                    "data": {
                        "text/plain": "9454240512000"
                    },
                    "execution_count": 15,
                    "metadata": {},
                    "output_type": "execute_result"
                }
            ],
            "source": "l"
        },
        {
            "cell_type": "code",
            "execution_count": 16,
            "metadata": {},
            "outputs": [
                {
                    "name": "stdout",
                    "output_type": "stream",
                    "text": "There are 9,454,240,512,000 kilometers in a LightYear!\n"
                }
            ],
            "source": "print ('There are ' + str(f\"{l:,d}\") + ' kilometers in a LightYear!')"
        },
        {
            "cell_type": "markdown",
            "metadata": {},
            "source": "That is, a lightyear equals about **_10 trillion_** kilometers!"
        },
        {
            "cell_type": "markdown",
            "metadata": {},
            "source": "#### TABLE: Closest Distance from Earth in light-minutes to our nearest planets\n Mars | Venus | Jupyter(!) |  \n---:| ---:|---:  \n3|8|33    \n\n***       \n\n#### NUMBERED LIST:\n1. Sun\n2. Aplpha Centauri\n3. Proxima Centauri\n4. Sirius   \n\n----  \n\n#### INSERT HYPERLINK  \nhttps://cdn.mos.cms.futurecdn.net/iEv6pmS4gfbefs5JbwHWiJ-320-80.png         \n\n____   \n\n#### INSERT IMAGE   \n<a href = https://cdn.mos.cms.futurecdn.net><img src = https://cdn.mos.cms.futurecdn.net/iEv6pmS4gfbefs5JbwHWiJ-320-80.png width = 500></a>\n\n"
        },
        {
            "cell_type": "markdown",
            "metadata": {},
            "source": "## Thank you very much for your Review!"
        },
        {
            "cell_type": "code",
            "execution_count": null,
            "metadata": {},
            "outputs": [],
            "source": ""
        }
    ],
    "metadata": {
        "kernelspec": {
            "display_name": "Python 3.6",
            "language": "python",
            "name": "python3"
        },
        "language_info": {
            "codemirror_mode": {
                "name": "ipython",
                "version": 3
            },
            "file_extension": ".py",
            "mimetype": "text/x-python",
            "name": "python",
            "nbconvert_exporter": "python",
            "pygments_lexer": "ipython3",
            "version": "3.6.9"
        }
    },
    "nbformat": 4,
    "nbformat_minor": 1
}